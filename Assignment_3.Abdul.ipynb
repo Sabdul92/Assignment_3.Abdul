{
 "cells": [
  {
   "cell_type": "code",
   "execution_count": null,
   "id": "e908349f",
   "metadata": {},
   "outputs": [],
   "source": [
    "1)  Why are functions advantageous to have in your programs? \n",
    "Ans:- Functions reduce the need for duplicate code. This makes programs shorter, easier to read, and easier to update.\n",
    "\n"
   ]
  },
  {
   "cell_type": "code",
   "execution_count": null,
   "id": "35c4bf31",
   "metadata": {},
   "outputs": [],
   "source": [
    "2. When does the code in a function run: when its specified or when its called?\n",
    "Ans:- The code in a function executes when the function is called, not when the function is defined.\n",
    "    "
   ]
  },
  {
   "cell_type": "code",
   "execution_count": null,
   "id": "767ec8d0",
   "metadata": {},
   "outputs": [],
   "source": [
    "3)     What statement creates a function?\n",
    "Ans.:- In Python, you define a function with the def keyword, then write the function identifier (name) followed by\n",
    "        parentheses and a colon.\n"
   ]
  },
  {
   "cell_type": "code",
   "execution_count": null,
   "id": "c3dfc33e",
   "metadata": {},
   "outputs": [],
   "source": [
    "4.)     What is the difference between a function and a function call?\n",
    "Ans.:-  A function consists of the def statement and the code in its def clause. \n",
    "        A function call is what moves the program execution into the function, \n",
    "        and the function call evaluates to the function's return value.\n",
    "    "
   ]
  },
  {
   "cell_type": "code",
   "execution_count": null,
   "id": "719ecb7f",
   "metadata": {},
   "outputs": [],
   "source": [
    "5.    How many global scopes are there in a Python program? How many local scopes?\n",
    "Ans:- There's only one global Python scope per program execution in a python.\n",
    "      and a local scope is created whenever a function is called.\n"
   ]
  },
  {
   "cell_type": "code",
   "execution_count": null,
   "id": "80e005e0",
   "metadata": {},
   "outputs": [],
   "source": [
    "6)    What happens to variables in a local scope when the function call returns?\n",
    "Ans:- When a function returns, the local scope is destroyed, and all the variables in it are forgotten.\n"
   ]
  },
  {
   "cell_type": "code",
   "execution_count": null,
   "id": "c407f6d5",
   "metadata": {},
   "outputs": [],
   "source": [
    "7.     What is the concept of a return value? Is it possible to have a return value in an expression?\n",
    "Ans:-  A return value is the value that a function call evaluates to. \n",
    "       Like any value, a return value can be used as part of an expression.\n"
   ]
  },
  {
   "cell_type": "code",
   "execution_count": null,
   "id": "a6cecb6e",
   "metadata": {},
   "outputs": [],
   "source": [
    "8.    If a function does not have a return statement, what is the return value of a call to that function?\n",
    "Ans. If there is no return statement for a function, its return value is None.\n"
   ]
  },
  {
   "cell_type": "code",
   "execution_count": null,
   "id": "389ae5b0",
   "metadata": {},
   "outputs": [],
   "source": [
    "9)     How do you make a function variable refer to the global variable?\n",
    "Ans :- A global statement will force a variable in a function to refer to the global variable.\n",
    "       Normally, when you create a variable inside a function, that variable is local, & can only be used inside that function.\n",
    "       To create a global variable inside a function, you can use the global keyword.\n"
   ]
  },
  {
   "cell_type": "code",
   "execution_count": null,
   "id": "7b3f2225",
   "metadata": {},
   "outputs": [],
   "source": [
    "10.    What is the data type of None?\n",
    "Ans :- The data type of None is NoneType.\n",
    "       The None keyword is used to define a null value, or no value at all. None is not the same as 0, False, \n",
    "        or an empty string. None is a data type of its own (NoneType) and only None can be None.\n"
   ]
  },
  {
   "cell_type": "code",
   "execution_count": null,
   "id": "8123e283",
   "metadata": {},
   "outputs": [],
   "source": [
    "11.   What does the sentence import areallyourpetsnamederic do?\n",
    "Ans:- That import statement imports a module named areallyourpetsnamederic.\n"
   ]
  },
  {
   "cell_type": "code",
   "execution_count": null,
   "id": "c4dac1ac",
   "metadata": {},
   "outputs": [],
   "source": [
    "12.   If you had a bacon() feature in a spam module, what would you call it after importing spam?\n",
    "Ans:- This function can be called with spam.bacon().\n",
    "    "
   ]
  },
  {
   "cell_type": "code",
   "execution_count": null,
   "id": "7b0c815c",
   "metadata": {},
   "outputs": [],
   "source": [
    "13.   What can you do to save a programme from crashing if it encounters an error?\n",
    "Ans:- Place the line of code that might cause an error in a try clause.\n"
   ]
  },
  {
   "cell_type": "code",
   "execution_count": null,
   "id": "acdf72d9",
   "metadata": {},
   "outputs": [],
   "source": [
    "14.   What is the purpose of the try clause? What is the purpose of the except clause?\n",
    "Ans:- The code that could potentially cause an error goes in the try clause.\n",
    "     -The code that executes if an error happens goes in the except clause."
   ]
  }
 ],
 "metadata": {
  "kernelspec": {
   "display_name": "Python 3 (ipykernel)",
   "language": "python",
   "name": "python3"
  },
  "language_info": {
   "codemirror_mode": {
    "name": "ipython",
    "version": 3
   },
   "file_extension": ".py",
   "mimetype": "text/x-python",
   "name": "python",
   "nbconvert_exporter": "python",
   "pygments_lexer": "ipython3",
   "version": "3.10.9"
  }
 },
 "nbformat": 4,
 "nbformat_minor": 5
}
